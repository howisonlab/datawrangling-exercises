{
 "cells": [
  {
   "cell_type": "code",
   "execution_count": 20,
   "id": "7ffc85cc-a35f-4f8a-970a-2856c7157990",
   "metadata": {},
   "outputs": [],
   "source": [
    "%LOAD postgresql host=localhost "
   ]
  },
  {
   "cell_type": "code",
   "execution_count": 21,
   "id": "99a453aa-5b35-4497-b6ff-14f4338cee66",
   "metadata": {},
   "outputs": [
    {
     "ename": "Error",
     "evalue": "Cannot execute query. Fatal error. ERROR:  database \"empty_music_festival\" is being accessed by other users\nDETAIL:  There are 6 other sessions using the database.\n while executing \"DROP DATABASE empty_music_festival;\".",
     "output_type": "error",
     "traceback": [
      "Error: Cannot execute query. Fatal error. ERROR:  database \"empty_music_festival\" is being accessed by other users\nDETAIL:  There are 6 other sessions using the database.\n while executing \"DROP DATABASE empty_music_festival;\"."
     ]
    }
   ],
   "source": [
    "DROP DATABASE empty_music_festival;"
   ]
  },
  {
   "cell_type": "code",
   "execution_count": null,
   "id": "e7031d58-45cd-47ae-abee-be0878ab2479",
   "metadata": {},
   "outputs": [],
   "source": [
    "CREATE DATABASE empty_music_festival;"
   ]
  },
  {
   "cell_type": "code",
   "execution_count": 22,
   "id": "c8accc32-6fab-4051-812a-f0d011f3ad2b",
   "metadata": {},
   "outputs": [],
   "source": [
    "%LOAD postgresql host=localhost dbname=empty_music_festival"
   ]
  },
  {
   "cell_type": "code",
   "execution_count": 23,
   "id": "2cdfd1f0-b8c9-4335-8e0a-102a3967b87c",
   "metadata": {},
   "outputs": [],
   "source": [
    "DROP TABLE IF EXISTS bands;\n",
    "DROP TABLE IF EXISTS venues;\n",
    "DROP TABLE IF EXISTS performances;\n",
    "DROP TABLE IF EXISTS tickets;\n",
    "DROP TABLE IF EXISTS purchases;\n",
    "DROP TABLE IF EXISTS people;\n"
   ]
  },
  {
   "cell_type": "code",
   "execution_count": 24,
   "id": "3b719634-05cf-433e-8b28-fb2be6f2e3a2",
   "metadata": {},
   "outputs": [],
   "source": [
    "CREATE TABLE bands (\n",
    "    id SERIAL PRIMARY KEY,\n",
    "    name TEXT,\n",
    "    fee INTEGER\n",
    "); "
   ]
  },
  {
   "cell_type": "code",
   "execution_count": 25,
   "id": "b7754a19-a9a4-4129-8402-c28545d5b400",
   "metadata": {},
   "outputs": [],
   "source": [
    "CREATE TABLE venues (\n",
    "    id SERIAL PRIMARY KEY,\n",
    "    name TEXT,\n",
    "    capacity INTEGER\n",
    ");  "
   ]
  },
  {
   "cell_type": "code",
   "execution_count": 26,
   "id": "cdea1ec4-bc1e-4f37-bdb4-52b3ea498ae3",
   "metadata": {},
   "outputs": [],
   "source": [
    "CREATE TABLE performances (\n",
    "    id SERIAL PRIMARY KEY,\n",
    "    \"start\" TIMESTAMP,\n",
    "    \"end\" TIMESTAMP,\n",
    "    venue_id INTEGER,\n",
    "    band_id INTEGER\n",
    ");  "
   ]
  },
  {
   "cell_type": "code",
   "execution_count": 27,
   "id": "2783eff2-b5b1-4ca3-866e-475fd4d7ab50",
   "metadata": {},
   "outputs": [],
   "source": [
    "CREATE TABLE tickets (\n",
    "    id SERIAL PRIMARY KEY,\n",
    "    price INTEGER,\n",
    "    ticketnum TEXT,\n",
    "    performance_id INTEGER,\n",
    "    purchase_id INTEGER\n",
    ");  "
   ]
  },
  {
   "cell_type": "code",
   "execution_count": 28,
   "id": "6d29f496-2f28-4199-8919-268e7b9c55df",
   "metadata": {},
   "outputs": [],
   "source": [
    "CREATE TABLE purchases (\n",
    "    id SERIAL PRIMARY KEY,\n",
    "    \"date\" TIMESTAMP,\n",
    "    person_id INTEGER\n",
    "); "
   ]
  },
  {
   "cell_type": "code",
   "execution_count": 29,
   "id": "9b17c1ef-58da-4fb9-a9f1-abf17a4bbfef",
   "metadata": {},
   "outputs": [],
   "source": [
    "CREATE TABLE people (\n",
    "    id SERIAL PRIMARY KEY,\n",
    "    name TEXT\n",
    ");  "
   ]
  },
  {
   "cell_type": "code",
   "execution_count": 30,
   "id": "468e6cf3-23d0-474b-8a18-e4a04f8e1b5f",
   "metadata": {},
   "outputs": [
    {
     "data": {
      "text/html": [
       "</table>\n",
       "Empty set (0.00 sec)"
      ],
      "text/plain": [
       "\n",
       "Empty set (0.00 sec)"
      ]
     },
     "execution_count": 30,
     "metadata": {},
     "output_type": "execute_result"
    }
   ],
   "source": [
    "SELECT * FROM venues"
   ]
  },
  {
   "cell_type": "code",
   "execution_count": 31,
   "id": "16dc7fea-b499-4e60-a258-8ce981f63e21",
   "metadata": {},
   "outputs": [
    {
     "data": {
      "text/html": [
       "</table>\n",
       "Empty set (0.00 sec)"
      ],
      "text/plain": [
       "\n",
       "Empty set (0.00 sec)"
      ]
     },
     "execution_count": 31,
     "metadata": {},
     "output_type": "execute_result"
    }
   ],
   "source": [
    "SELECT * FROM performances"
   ]
  },
  {
   "cell_type": "code",
   "execution_count": null,
   "id": "d7ae03f9-86ba-420b-b07e-b3532d69157c",
   "metadata": {},
   "outputs": [],
   "source": []
  }
 ],
 "metadata": {
  "kernelspec": {
   "display_name": "xsql",
   "language": "sqlite",
   "name": "xsql"
  },
  "language_info": {
   "codemirror_mode": "sql",
   "file_extension": "",
   "mimetype": "",
   "name": "mysql",
   "version": "0.1.5"
  }
 },
 "nbformat": 4,
 "nbformat_minor": 5
}
