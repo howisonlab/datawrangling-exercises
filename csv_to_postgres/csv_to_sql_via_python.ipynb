{
 "cells": [
  {
   "cell_type": "code",
   "execution_count": null,
   "id": "00794b19-8820-49ae-a1d1-e77be3c4a643",
   "metadata": {},
   "outputs": [],
   "source": [
    "import psycopg2\n",
    "from psycopg2.extras import RealDictCursor\n",
    "import csv"
   ]
  },
  {
   "cell_type": "code",
   "execution_count": null,
   "id": "ddeb5801-d4cb-4807-9691-54ba4c0f3448",
   "metadata": {},
   "outputs": [],
   "source": [
    "%load_ext sql\n",
    "%env DATABASE_URL=postgresql://localhost/empty_music_festival"
   ]
  },
  {
   "cell_type": "markdown",
   "id": "21b55268-f665-46b7-892c-b7bb92f53517",
   "metadata": {},
   "source": [
    "You can execute straight SQL queries directly in the python notebook, using %%sql at the start of the cell."
   ]
  },
  {
   "cell_type": "code",
   "execution_count": null,
   "id": "599cea5c-9877-4a68-b41e-9a71d4c47601",
   "metadata": {},
   "outputs": [],
   "source": [
    "%%sql\n",
    "SELECT * FROM venues"
   ]
  }
 ],
 "metadata": {
  "kernelspec": {
   "display_name": "Python 3 (ipykernel)",
   "language": "python",
   "name": "python3"
  },
  "language_info": {
   "codemirror_mode": {
    "name": "ipython",
    "version": 3
   },
   "file_extension": ".py",
   "mimetype": "text/x-python",
   "name": "python",
   "nbconvert_exporter": "python",
   "pygments_lexer": "ipython3",
   "version": "3.7.12"
  }
 },
 "nbformat": 4,
 "nbformat_minor": 5
}
