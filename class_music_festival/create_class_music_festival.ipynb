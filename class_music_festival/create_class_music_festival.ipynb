{
 "cells": [
  {
   "cell_type": "code",
   "execution_count": null,
   "id": "7ffc85cc-a35f-4f8a-970a-2856c7157990",
   "metadata": {},
   "outputs": [],
   "source": [
    "%LOAD postgresql host=localhost "
   ]
  },
  {
   "cell_type": "code",
   "execution_count": null,
   "id": "99a453aa-5b35-4497-b6ff-14f4338cee66",
   "metadata": {},
   "outputs": [],
   "source": [
    "CREATE DATABASE class_music_festival;"
   ]
  },
  {
   "cell_type": "code",
   "execution_count": null,
   "id": "c8accc32-6fab-4051-812a-f0d011f3ad2b",
   "metadata": {},
   "outputs": [],
   "source": [
    "%LOAD postgresql host=localhost dbname=class_music_festival"
   ]
  },
  {
   "cell_type": "code",
   "execution_count": null,
   "id": "2cdfd1f0-b8c9-4335-8e0a-102a3967b87c",
   "metadata": {},
   "outputs": [],
   "source": [
    "DROP TABLE IF EXISTS bands;\n",
    "DROP TABLE IF EXISTS venues;\n",
    "DROP TABLE IF EXISTS performances;\n",
    "DROP TABLE IF EXISTS tickets;\n",
    "DROP TABLE IF EXISTS purchases;\n",
    "DROP TABLE IF EXISTS people;\n"
   ]
  },
  {
   "cell_type": "code",
   "execution_count": null,
   "id": "3b719634-05cf-433e-8b28-fb2be6f2e3a2",
   "metadata": {},
   "outputs": [],
   "source": [
    "CREATE TABLE bands (\n",
    "    id SERIAL PRIMARY KEY,\n",
    "    name TEXT,\n",
    "    fee INTEGER\n",
    "); "
   ]
  },
  {
   "cell_type": "code",
   "execution_count": null,
   "id": "b7754a19-a9a4-4129-8402-c28545d5b400",
   "metadata": {},
   "outputs": [],
   "source": [
    "CREATE TABLE venues (\n",
    "    id SERIAL PRIMARY KEY,\n",
    "    name TEXT,\n",
    "    capacity INTEGER\n",
    ");  "
   ]
  },
  {
   "cell_type": "code",
   "execution_count": null,
   "id": "cdea1ec4-bc1e-4f37-bdb4-52b3ea498ae3",
   "metadata": {},
   "outputs": [],
   "source": [
    "CREATE TABLE performances (\n",
    "    id SERIAL PRIMARY KEY,\n",
    "    \"start\" TIMESTAMP,\n",
    "    \"end\" TIMESTAMP,\n",
    "    venue_id INTEGER,\n",
    "    band_id INTEGER\n",
    ");  "
   ]
  },
  {
   "cell_type": "code",
   "execution_count": null,
   "id": "2783eff2-b5b1-4ca3-866e-475fd4d7ab50",
   "metadata": {},
   "outputs": [],
   "source": [
    "CREATE TABLE tickets (\n",
    "    id SERIAL PRIMARY KEY,\n",
    "    price INTEGER,\n",
    "    ticketnum TEXT,\n",
    "    performance_id INTEGER,\n",
    "    purchase_id INTEGER\n",
    ");  "
   ]
  },
  {
   "cell_type": "code",
   "execution_count": null,
   "id": "6d29f496-2f28-4199-8919-268e7b9c55df",
   "metadata": {},
   "outputs": [],
   "source": [
    "CREATE TABLE purchases (\n",
    "    id SERIAL PRIMARY KEY,\n",
    "    \"date\" TIMESTAMP,\n",
    "    person_id INTEGER\n",
    "); "
   ]
  },
  {
   "cell_type": "code",
   "execution_count": null,
   "id": "9b17c1ef-58da-4fb9-a9f1-abf17a4bbfef",
   "metadata": {},
   "outputs": [],
   "source": [
    "CREATE TABLE people (\n",
    "    id SERIAL PRIMARY KEY,\n",
    "    name TEXT\n",
    ");  "
   ]
  },
  {
   "cell_type": "markdown",
   "id": "edd25c95-7e7a-4c8a-ac43-ea0db07ae4ec",
   "metadata": {},
   "source": [
    "Now switch to load_class_music_festival.ipynb to load data"
   ]
  },
  {
   "cell_type": "code",
   "execution_count": null,
   "id": "6814477a-2da5-4627-92d9-8fbff11733aa",
   "metadata": {},
   "outputs": [],
   "source": []
  }
 ],
 "metadata": {
  "kernelspec": {
   "display_name": "xsql",
   "language": "sqlite",
   "name": "xsql"
  },
  "language_info": {
   "codemirror_mode": "sql",
   "file_extension": "",
   "mimetype": "",
   "name": "mysql",
   "version": "0.1.4"
  }
 },
 "nbformat": 4,
 "nbformat_minor": 5
}
